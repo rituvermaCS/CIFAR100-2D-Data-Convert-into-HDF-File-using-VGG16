{
  "nbformat": 4,
  "nbformat_minor": 0,
  "metadata": {
    "colab": {
      "name": "VGG16-CIFAR100-V2.ipynb",
      "provenance": [],
      "collapsed_sections": []
    },
    "kernelspec": {
      "name": "python3",
      "display_name": "Python 3"
    },
    "language_info": {
      "name": "python"
    }
  },
  "cells": [
    {
      "cell_type": "code",
      "metadata": {
        "id": "Muf6LQSKrulp"
      },
      "source": [
        "import tensorflow as tf\n",
        "from tensorflow import keras\n",
        "from keras.datasets import cifar100\n",
        "from keras.preprocessing.image import ImageDataGenerator\n",
        "from keras.models import Sequential\n",
        "from keras.layers import Dense, Dropout, Activation, Flatten\n",
        "from keras.layers import Conv2D, MaxPooling2D, BatchNormalization\n",
        "from keras import optimizers, utils\n",
        "import numpy as np\n",
        "from keras.layers.core import Lambda\n",
        "from tensorflow.keras.utils import to_categorical\n",
        "from keras.utils import np_utils\n",
        "from keras import backend as K\n",
        "from keras import regularizers\n",
        "import matplotlib.pyplot as plt"
      ],
      "execution_count": 3,
      "outputs": []
    },
    {
      "cell_type": "code",
      "metadata": {
        "colab": {
          "base_uri": "https://localhost:8080/"
        },
        "id": "o22CZhxB29cY",
        "outputId": "adb885cf-6c12-4d00-b5d5-2fc4a37d1a85"
      },
      "source": [
        "print(keras.__version__)\n",
        "print(tf.__version__)"
      ],
      "execution_count": 4,
      "outputs": [
        {
          "output_type": "stream",
          "text": [
            "2.5.0\n",
            "2.5.0\n"
          ],
          "name": "stdout"
        }
      ]
    },
    {
      "cell_type": "code",
      "metadata": {
        "id": "n6O27CMer5fQ"
      },
      "source": [
        "train=True\n",
        "num_classes = 100\n",
        "weight_decay = 0.0005\n",
        "x_shape = [32,32,3]"
      ],
      "execution_count": 5,
      "outputs": []
    },
    {
      "cell_type": "code",
      "metadata": {
        "id": "-6j_HCLvr5nZ"
      },
      "source": [
        "model = Sequential()\n",
        "weight_decay = weight_decay\n",
        "\n",
        "model.add(Conv2D(64, (3, 3), padding='same',\n",
        "                 input_shape=x_shape,kernel_regularizer=regularizers.l2(weight_decay)))\n",
        "model.add(Activation('relu'))\n",
        "model.add(BatchNormalization())\n",
        "model.add(Dropout(0.3))\n",
        "\n",
        "model.add(Conv2D(64, (3, 3), padding='same',kernel_regularizer=regularizers.l2(weight_decay)))\n",
        "model.add(Activation('relu'))\n",
        "model.add(BatchNormalization())\n",
        "\n",
        "model.add(MaxPooling2D(pool_size=(2, 2)))\n",
        "\n",
        "model.add(Conv2D(128, (3, 3), padding='same',kernel_regularizer=regularizers.l2(weight_decay)))\n",
        "model.add(Activation('relu'))\n",
        "model.add(BatchNormalization())\n",
        "model.add(Dropout(0.4))\n",
        "\n",
        "model.add(Conv2D(128, (3, 3), padding='same',kernel_regularizer=regularizers.l2(weight_decay)))\n",
        "model.add(Activation('relu'))\n",
        "model.add(BatchNormalization())\n",
        "\n",
        "model.add(MaxPooling2D(pool_size=(2, 2)))\n",
        "\n",
        "model.add(Conv2D(256, (3, 3), padding='same',kernel_regularizer=regularizers.l2(weight_decay)))\n",
        "model.add(Activation('relu'))\n",
        "model.add(BatchNormalization())\n",
        "model.add(Dropout(0.4))\n",
        "\n",
        "model.add(Conv2D(256, (3, 3), padding='same',kernel_regularizer=regularizers.l2(weight_decay)))\n",
        "model.add(Activation('relu'))\n",
        "model.add(BatchNormalization())\n",
        "model.add(Dropout(0.4))\n",
        "\n",
        "model.add(Conv2D(256, (3, 3), padding='same',kernel_regularizer=regularizers.l2(weight_decay)))\n",
        "model.add(Activation('relu'))\n",
        "model.add(BatchNormalization())\n",
        "\n",
        "model.add(MaxPooling2D(pool_size=(2, 2)))\n",
        "\n",
        "\n",
        "model.add(Conv2D(512, (3, 3), padding='same',kernel_regularizer=regularizers.l2(weight_decay)))\n",
        "model.add(Activation('relu'))\n",
        "model.add(BatchNormalization())\n",
        "model.add(Dropout(0.4))\n",
        "\n",
        "model.add(Conv2D(512, (3, 3), padding='same',kernel_regularizer=regularizers.l2(weight_decay)))\n",
        "model.add(Activation('relu'))\n",
        "model.add(BatchNormalization())\n",
        "model.add(Dropout(0.4))\n",
        "\n",
        "model.add(Conv2D(512, (3, 3), padding='same',kernel_regularizer=regularizers.l2(weight_decay)))\n",
        "model.add(Activation('relu'))\n",
        "model.add(BatchNormalization())\n",
        "\n",
        "model.add(MaxPooling2D(pool_size=(2, 2)))\n",
        "\n",
        "\n",
        "model.add(Conv2D(512, (3, 3), padding='same',kernel_regularizer=regularizers.l2(weight_decay)))\n",
        "model.add(Activation('relu'))\n",
        "model.add(BatchNormalization())\n",
        "model.add(Dropout(0.4))\n",
        "\n",
        "model.add(Conv2D(512, (3, 3), padding='same',kernel_regularizer=regularizers.l2(weight_decay)))\n",
        "model.add(Activation('relu'))\n",
        "model.add(BatchNormalization())\n",
        "model.add(Dropout(0.4))\n",
        "\n",
        "model.add(Conv2D(512, (3, 3), padding='same',kernel_regularizer=regularizers.l2(weight_decay)))\n",
        "model.add(Activation('relu'))\n",
        "model.add(BatchNormalization())\n",
        "\n",
        "model.add(MaxPooling2D(pool_size=(2, 2)))\n",
        "model.add(Dropout(0.5))\n",
        "\n",
        "model.add(Flatten())\n",
        "model.add(Dense(512,kernel_regularizer=regularizers.l2(weight_decay)))\n",
        "model.add(Activation('relu'))\n",
        "model.add(BatchNormalization())\n",
        "\n",
        "model.add(Dropout(0.5))\n",
        "model.add(Dense(num_classes))\n",
        "model.add(Activation('softmax'))"
      ],
      "execution_count": 6,
      "outputs": []
    },
    {
      "cell_type": "code",
      "metadata": {
        "id": "R8HZPQK5r5qG"
      },
      "source": [
        "def normalize(X_train,X_test):\n",
        "    #this function normalize inputs for zero mean and unit variance\n",
        "    # it is used when training a model.\n",
        "    # Input: training set and test set\n",
        "    # Output: normalized training set and test set according to the trianing set statistics.\n",
        "    mean = np.mean(X_train,axis=(0,1,2,3))\n",
        "    std = np.std(X_train, axis=(0, 1, 2, 3))\n",
        "    print(mean)\n",
        "    print(std)\n",
        "    X_train = (X_train-mean)/(std+1e-7)\n",
        "    X_test = (X_test-mean)/(std+1e-7)\n",
        "    return X_train, X_test\n",
        "\n",
        "def normalize_production(x):\n",
        "    #this function is used to normalize instances in production according to saved training set statistics\n",
        "    # Input: X - a training set\n",
        "    # Output X - a normalized training set according to normalization constants.\n",
        "\n",
        "    #these values produced during first training and are general for the standard cifar10 training set normalization\n",
        "    mean = 121.936\n",
        "    std = 68.389\n",
        "    return (x-mean)/(std+1e-7)"
      ],
      "execution_count": 7,
      "outputs": []
    },
    {
      "cell_type": "code",
      "metadata": {
        "id": "e4UV-ImKr50C"
      },
      "source": [
        "def predict(x,normalize=True,batch_size=50):\n",
        "    if normalize:\n",
        "        x = normalize_production(x)\n",
        "    return model.predict(x,batch_size)"
      ],
      "execution_count": 8,
      "outputs": []
    },
    {
      "cell_type": "code",
      "metadata": {
        "colab": {
          "base_uri": "https://localhost:8080/"
        },
        "id": "ae912WMTseV7",
        "outputId": "9af896e1-e800-4ff5-d0d0-10db80109e91"
      },
      "source": [
        "# The data, shuffled and split between train and test sets:\n",
        "(x_train, y_train), (x_test, y_test) = cifar100.load_data()\n",
        "x_train = x_train.astype('float32')\n",
        "x_test = x_test.astype('float32')\n",
        "x_train, x_test = normalize(x_train, x_test)\n",
        "y_train = keras.utils.to_categorical(y_train, num_classes)\n",
        "y_test = keras.utils.to_categorical(y_test, num_classes)"
      ],
      "execution_count": 9,
      "outputs": [
        {
          "output_type": "stream",
          "text": [
            "Downloading data from https://www.cs.toronto.edu/~kriz/cifar-100-python.tar.gz\n",
            "169009152/169001437 [==============================] - 11s 0us/step\n",
            "169017344/169001437 [==============================] - 11s 0us/step\n",
            "121.93584\n",
            "68.38902\n"
          ],
          "name": "stdout"
        }
      ]
    },
    {
      "cell_type": "code",
      "metadata": {
        "colab": {
          "base_uri": "https://localhost:8080/"
        },
        "id": "StMbOf2d5qIC",
        "outputId": "c95943a9-eee2-459e-d9fc-292038872b8a"
      },
      "source": [
        "batch_size = 128\n",
        "maxepoches = 20\n",
        "learning_rate = 0.1\n",
        "lr_decay = 1e-6\n",
        "lr_drop = 20\n",
        "\n",
        "def lr_scheduler(epoch):\n",
        "    return learning_rate * (0.5 ** (epoch // lr_drop))\n",
        "reduce_lr = keras.callbacks.LearningRateScheduler(lr_scheduler)\n",
        "\n",
        "#data augmentation\n",
        "datagen = ImageDataGenerator(\n",
        "    featurewise_center=False,  # set input mean to 0 over the dataset\n",
        "    samplewise_center=False,  # set each sample mean to 0\n",
        "    featurewise_std_normalization=False,  # divide inputs by std of the dataset\n",
        "    samplewise_std_normalization=False,  # divide each input by its std\n",
        "    zca_whitening=False,  # apply ZCA whitening\n",
        "    rotation_range=15,  # randomly rotate images in the range (degrees, 0 to 180)\n",
        "    width_shift_range=0.1,  # randomly shift images horizontally (fraction of total width)\n",
        "    height_shift_range=0.1,  # randomly shift images vertically (fraction of total height)\n",
        "    horizontal_flip=True,  # randomly flip images\n",
        "    vertical_flip=False)  # randomly flip images\n",
        "# (std, mean, and principal components if ZCA whitening is applied).\n",
        "datagen.fit(x_train)\n",
        "\n",
        "#optimization details\n",
        "sgd = optimizers.SGD(lr=learning_rate, decay=lr_decay, momentum=0.9, nesterov=True)\n",
        "model.compile(loss='categorical_crossentropy', optimizer=sgd,metrics=['accuracy']) "
      ],
      "execution_count": 11,
      "outputs": [
        {
          "output_type": "stream",
          "text": [
            "/usr/local/lib/python3.7/dist-packages/tensorflow/python/keras/optimizer_v2/optimizer_v2.py:375: UserWarning: The `lr` argument is deprecated, use `learning_rate` instead.\n",
            "  \"The `lr` argument is deprecated, use `learning_rate` instead.\")\n"
          ],
          "name": "stderr"
        }
      ]
    },
    {
      "cell_type": "code",
      "metadata": {
        "colab": {
          "base_uri": "https://localhost:8080/"
        },
        "id": "SEpUuuaprxAZ",
        "outputId": "216a50aa-4b84-4955-b327-8c7bf5f66494"
      },
      "source": [
        "hist = model.fit_generator(datagen.flow(x_train, y_train,\n",
        "                                 batch_size=batch_size),\n",
        "                    steps_per_epoch=x_train.shape[0] // batch_size,\n",
        "                    epochs=maxepoches,\n",
        "                    validation_data=(x_test, y_test),callbacks=[reduce_lr],verbose=2)\n",
        "model.save_weights('cifar100vgg.h5')  "
      ],
      "execution_count": 11,
      "outputs": [
        {
          "output_type": "stream",
          "text": [
            "/usr/local/lib/python3.7/dist-packages/keras/engine/training.py:1915: UserWarning: `Model.fit_generator` is deprecated and will be removed in a future version. Please use `Model.fit`, which supports generators.\n",
            "  warnings.warn('`Model.fit_generator` is deprecated and '\n"
          ],
          "name": "stderr"
        },
        {
          "output_type": "stream",
          "text": [
            "Epoch 1/20\n",
            "390/390 - 85s - loss: 19.7377 - accuracy: 0.0272 - val_loss: 15.1959 - val_accuracy: 0.0102\n",
            "Epoch 2/20\n",
            "390/390 - 29s - loss: 11.3734 - accuracy: 0.0467 - val_loss: 9.7021 - val_accuracy: 0.0113\n",
            "Epoch 3/20\n",
            "390/390 - 28s - loss: 7.4110 - accuracy: 0.0576 - val_loss: 6.8513 - val_accuracy: 0.0302\n",
            "Epoch 4/20\n",
            "390/390 - 29s - loss: 5.6061 - accuracy: 0.0739 - val_loss: 5.4169 - val_accuracy: 0.0560\n",
            "Epoch 5/20\n",
            "390/390 - 29s - loss: 4.7223 - accuracy: 0.0959 - val_loss: 4.4538 - val_accuracy: 0.1099\n",
            "Epoch 6/20\n",
            "390/390 - 28s - loss: 4.2610 - accuracy: 0.1208 - val_loss: 4.1662 - val_accuracy: 0.1243\n",
            "Epoch 7/20\n",
            "390/390 - 29s - loss: 4.0679 - accuracy: 0.1367 - val_loss: 3.8621 - val_accuracy: 0.1709\n",
            "Epoch 8/20\n",
            "390/390 - 28s - loss: 3.9147 - accuracy: 0.1609 - val_loss: 3.9638 - val_accuracy: 0.1580\n",
            "Epoch 9/20\n",
            "390/390 - 28s - loss: 3.8294 - accuracy: 0.1829 - val_loss: 3.8656 - val_accuracy: 0.1900\n",
            "Epoch 10/20\n",
            "390/390 - 29s - loss: 3.7651 - accuracy: 0.2078 - val_loss: 3.8492 - val_accuracy: 0.2129\n",
            "Epoch 11/20\n",
            "390/390 - 28s - loss: 3.7541 - accuracy: 0.2290 - val_loss: 3.7070 - val_accuracy: 0.2449\n",
            "Epoch 12/20\n",
            "390/390 - 28s - loss: 3.7131 - accuracy: 0.2498 - val_loss: 3.6792 - val_accuracy: 0.2707\n",
            "Epoch 13/20\n",
            "390/390 - 28s - loss: 3.7065 - accuracy: 0.2626 - val_loss: 3.5840 - val_accuracy: 0.2961\n",
            "Epoch 14/20\n",
            "390/390 - 29s - loss: 3.7035 - accuracy: 0.2763 - val_loss: 3.7971 - val_accuracy: 0.2837\n",
            "Epoch 15/20\n",
            "390/390 - 29s - loss: 3.7072 - accuracy: 0.2888 - val_loss: 3.6882 - val_accuracy: 0.3121\n",
            "Epoch 16/20\n",
            "390/390 - 29s - loss: 3.7099 - accuracy: 0.3020 - val_loss: 3.8370 - val_accuracy: 0.2972\n",
            "Epoch 17/20\n",
            "390/390 - 29s - loss: 3.7311 - accuracy: 0.3101 - val_loss: 3.7423 - val_accuracy: 0.3186\n",
            "Epoch 18/20\n",
            "390/390 - 29s - loss: 3.7361 - accuracy: 0.3167 - val_loss: 3.6697 - val_accuracy: 0.3460\n",
            "Epoch 19/20\n",
            "390/390 - 29s - loss: 3.7472 - accuracy: 0.3250 - val_loss: 3.6457 - val_accuracy: 0.3620\n",
            "Epoch 20/20\n",
            "390/390 - 29s - loss: 3.7549 - accuracy: 0.3342 - val_loss: 3.9167 - val_accuracy: 0.3107\n"
          ],
          "name": "stdout"
        }
      ]
    },
    {
      "cell_type": "code",
      "metadata": {
        "id": "Ic07dzqH7cCT"
      },
      "source": [
        "model.save('cifar100vgg.h5') "
      ],
      "execution_count": 12,
      "outputs": []
    },
    {
      "cell_type": "code",
      "metadata": {
        "id": "msD6A-W2c6OU",
        "colab": {
          "base_uri": "https://localhost:8080/"
        },
        "outputId": "2a7f7d72-bc55-4804-f53b-3b13be32e213"
      },
      "source": [
        "(x_train, y_train), (x_test, y_test) = cifar100.load_data()\n",
        "x_train = x_train.astype('float32')\n",
        "x_test = x_test.astype('float32')\n",
        "\n",
        "y_train = keras.utils.to_categorical(y_train, num_classes)\n",
        "y_test = keras.utils.to_categorical(y_test, num_classes)\n",
        "\n",
        "scores = model.evaluate(x_test, y_test, verbose=0)\n",
        "print(\"Accuracy: %.2f%%\" % (scores[1]*100))"
      ],
      "execution_count": 13,
      "outputs": [
        {
          "output_type": "stream",
          "text": [
            "Accuracy: 0.99%\n"
          ],
          "name": "stdout"
        }
      ]
    },
    {
      "cell_type": "code",
      "metadata": {
        "id": "0hbq1ag-c6aX",
        "colab": {
          "base_uri": "https://localhost:8080/",
          "height": 562
        },
        "outputId": "fd74e471-f355-4e27-d4d6-96dea59eddf0"
      },
      "source": [
        "plt.plot(hist.history['loss'])\n",
        "plt.plot(hist.history['val_loss'])\n",
        "plt.legend(['train','test'])\n",
        "plt.title('loss')\n",
        "#plt.savefig(\"loss7.png\",dpi=300,format=\"png\")\n",
        "plt.figure()\n",
        "plt.plot(hist.history['acc'])\n",
        "plt.plot(hist.history['val_acc'])\n",
        "plt.legend(['train','test'])\n",
        "plt.title('accuracy')\n",
        "#plt.savefig(\"accuracy7.png\",dpi=300,format=\"png\")\n",
        "model_json = model.to_json()\n",
        "with open(\"model7.json\", \"w\") as json_file:\n",
        "   json_file.write(model_json)\n",
        "#serialize_weights to HDF5\n",
        "model.save_weights(\"model7.h5\")\n",
        "print(\"Saved model to disk\")"
      ],
      "execution_count": 19,
      "outputs": [
        {
          "output_type": "stream",
          "text": [
            "Saved model to disk\n"
          ],
          "name": "stdout"
        },
        {
          "output_type": "display_data",
          "data": {
            "image/png": "[encoded data removed]",
            "text/plain": [
              "<Figure size 432x288 with 1 Axes>"
            ]
          },
          "metadata": {
            "tags": [],
            "needs_background": "light"
          }
        },
        {
          "output_type": "display_data",
          "data": {
            "image/png": "[encoded data removed]",
            "text/plain": [
              "<Figure size 432x288 with 1 Axes>"
            ]
          },
          "metadata": {
            "tags": [],
            "needs_background": "light"
          }
        }
      ]
    }
  ]
}